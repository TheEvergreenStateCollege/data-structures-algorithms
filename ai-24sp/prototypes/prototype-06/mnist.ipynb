{
 "cells": [
  {
   "cell_type": "code",
   "execution_count": 1,
   "metadata": {},
   "outputs": [],
   "source": [
    "import load_mnist\n",
    "import load_mnist_labels\n",
    "import network"
   ]
  },
  {
   "cell_type": "code",
   "execution_count": 4,
   "metadata": {},
   "outputs": [
    {
     "name": "stdout",
     "output_type": "stream",
     "text": [
      "Number of images 59766\n",
      "Number of test labels 9961\n",
      "Epoch 0 complete\n",
      "Epoch 1 complete\n",
      "Epoch 2 complete\n",
      "Epoch 3 complete\n",
      "Epoch 4 complete\n",
      "Epoch 5 complete\n",
      "Epoch 6 complete\n",
      "Epoch 7 complete\n",
      "Epoch 8 complete\n",
      "Epoch 9 complete\n",
      "Epoch 10 complete\n",
      "Epoch 11 complete\n",
      "Epoch 12 complete\n",
      "Epoch 13 complete\n",
      "Epoch 14 complete\n",
      "Epoch 15 complete\n",
      "Epoch 16 complete\n",
      "Epoch 17 complete\n",
      "Epoch 18 complete\n",
      "Epoch 19 complete\n",
      "Epoch 20 complete\n",
      "Epoch 21 complete\n",
      "Epoch 22 complete\n",
      "Epoch 23 complete\n",
      "Epoch 24 complete\n",
      "Epoch 25 complete\n",
      "Epoch 26 complete\n",
      "Epoch 27 complete\n",
      "Epoch 28 complete\n",
      "Epoch 29 complete\n",
      "Training complete. Correct test results: 6448 out of 10000\n"
     ]
    }
   ],
   "source": [
    "## LOAD TRAINING IMAGES AND LABELS\n",
    "# shape is (60000, 784, 1)\n",
    "(original_training_images, width, height) = load_mnist.load_all_training_images()\n",
    "#print(f\"Training data shape {original_training_images.shape}\")\n",
    "# save_single_image(original_training_images[127], width, height)\n",
    "\n",
    "# shape is (60000, 10)\n",
    "training_labels = load_mnist.load_all_training_labels()\n",
    "# load_training_label(127)\n",
    "\n",
    "# shape is (60000, ((784, 1), 10))\n",
    "# 60000 2-tuples, of (x,y) image,label training pair\n",
    "original_training_data = zip(original_training_images, training_labels)\n",
    "\n",
    "# shape is (10000, ((784, 1), 10))\n",
    "#validation_data = original_training_data[50000:60000]\n",
    "#print(f\"Validation data shape {validation_data.shape}\")\n",
    "\n",
    "# Use all 60000 of original data for training for now\n",
    "training_data = list(original_training_data)\n",
    "\n",
    "# shape is (10000, 784, 1)\n",
    "(test_images, width, height) = load_mnist.load_all_test_images()\n",
    "# shape is (10000, 10)\n",
    "test_labels = load_mnist.load_all_test_labels()\n",
    "# shape is (10000, ((784, 1), 10))\n",
    "# 10000 2-tuples, of (x,y) image,label training pair\n",
    "test_data = list(zip(test_images, test_labels))\n",
    "\n",
    "from network import Network\n",
    "\n",
    "nn = Network([784, 100, 10])\n",
    "nn.SGD(\n",
    "    training_data=training_data,\n",
    "    epochs=30,\n",
    "    mini_batch_size=10,\n",
    "    eta=0.1,\n",
    "    show_progress=False,\n",
    "    test_data=test_data\n",
    ")\n",
    "\n",
    "# When this stops, you'll have a model with ~96% success rate (4% error)"
   ]
  }
 ],
 "metadata": {
  "kernelspec": {
   "display_name": "Python 3",
   "language": "python",
   "name": "python3"
  },
  "language_info": {
   "codemirror_mode": {
    "name": "ipython",
    "version": 3
   },
   "file_extension": ".py",
   "mimetype": "text/x-python",
   "name": "python",
   "nbconvert_exporter": "python",
   "pygments_lexer": "ipython3",
   "version": "3.11.1"
  }
 },
 "nbformat": 4,
 "nbformat_minor": 2
}
